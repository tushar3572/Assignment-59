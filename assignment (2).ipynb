{
 "cells": [
  {
   "cell_type": "code",
   "execution_count": null,
   "id": "5ca7b9fd-9209-4400-8251-ebabaf6b8286",
   "metadata": {},
   "outputs": [],
   "source": [
    "  #Answer: 1\n",
    "\n",
    "Some of the main use cases of web scraping include price monitoring, price intelligence, news monitoring, lead\n",
    "generation, and market research among many others. In general, it is used by people and businesses who want to\n",
    "make use of publicly available web data to generate valuable insights and make smarter decisions."
   ]
  },
  {
   "cell_type": "code",
   "execution_count": null,
   "id": "509bf502-1218-4d21-81e5-4e1d7d7d0007",
   "metadata": {},
   "outputs": [],
   "source": [
    "  #Answer: 2\n",
    "    \n",
    "Web scraping requires two parts, namely the crawler and the scraper. The crawler is an artificial intelligence\n",
    "algorithm that browses the web to search for the particular data required by following the links across the \n",
    "internet.    "
   ]
  },
  {
   "cell_type": "code",
   "execution_count": null,
   "id": "30f3cff2-a612-466d-a414-44300cf646a8",
   "metadata": {},
   "outputs": [],
   "source": [
    "  #Answer: 3\n",
    "   \n",
    "Beautiful Soup is a Python library for pulling data out of HTML and XML files. It works with your favorite \n",
    "parser to provide idiomatic ways of navigating, searching, and modifying the parse tree. It commonly saves \n",
    "programmers hours or days of work."
   ]
  },
  {
   "cell_type": "code",
   "execution_count": null,
   "id": "bfb3caba-8974-4179-9ae4-21660cdb1be3",
   "metadata": {},
   "outputs": [],
   "source": [
    "  #Answer: 4\n",
    "    \n",
    "Simplicity and Flexibility: Flask's minimalistic design allows developers to set up and customize their web\n",
    "scraping applications quickly. Extensibility: Flask supports a wide range of extensions that can enhance its\n",
    "functionality, making it easier to handle tasks such as database integration and form handling.    "
   ]
  },
  {
   "cell_type": "code",
   "execution_count": null,
   "id": "1b1ab832-5409-4c95-9313-e9e860a78b6f",
   "metadata": {},
   "outputs": [],
   "source": [
    "  #Answer: 5\n",
    "   \n",
    "~Amazon Glacier.\n",
    "~Amazon SNS (Simple Notification Service) \n",
    "~Amazon Lightsail\n",
    "~Amazon VPC (Virtual Private Cloud) \n",
    "~Amazon Kinesis. \n",
    "~Amazon Inspector. \n",
    "~Amazon Auto-scaling. \n",
    "~Amazon IAM (Identity and Access Management)"
   ]
  }
 ],
 "metadata": {
  "kernelspec": {
   "display_name": "Python 3 (ipykernel)",
   "language": "python",
   "name": "python3"
  },
  "language_info": {
   "codemirror_mode": {
    "name": "ipython",
    "version": 3
   },
   "file_extension": ".py",
   "mimetype": "text/x-python",
   "name": "python",
   "nbconvert_exporter": "python",
   "pygments_lexer": "ipython3",
   "version": "3.10.8"
  }
 },
 "nbformat": 4,
 "nbformat_minor": 5
}
